{
 "cells": [
  {
   "cell_type": "code",
   "execution_count": 6,
   "id": "a1d11b60",
   "metadata": {},
   "outputs": [],
   "source": [
    "from kafka import KafkaProducer"
   ]
  },
  {
   "cell_type": "code",
   "execution_count": 7,
   "id": "9a1bf2bc",
   "metadata": {},
   "outputs": [],
   "source": [
    "producer = KafkaProducer(bootstrap_servers='kafka:9092')"
   ]
  },
  {
   "cell_type": "code",
   "execution_count": 8,
   "id": "982b4605",
   "metadata": {},
   "outputs": [
    {
     "data": {
      "text/plain": [
       "<kafka.producer.future.FutureRecordMetadata at 0x7f4822a46fd0>"
      ]
     },
     "execution_count": 8,
     "metadata": {},
     "output_type": "execute_result"
    }
   ],
   "source": [
    "producer.send('test',b'I love working from home :)')"
   ]
  },
  {
   "cell_type": "code",
   "execution_count": 9,
   "id": "9a0500af",
   "metadata": {},
   "outputs": [
    {
     "data": {
      "text/plain": [
       "<kafka.producer.future.FutureRecordMetadata at 0x7f4821ce4f98>"
      ]
     },
     "execution_count": 9,
     "metadata": {},
     "output_type": "execute_result"
    }
   ],
   "source": [
    "producer.send('test',b'URGENT! You have won a 1 week FREE membership !')"
   ]
  },
  {
   "cell_type": "code",
   "execution_count": null,
   "id": "33f9532e",
   "metadata": {},
   "outputs": [],
   "source": [
    "import random\n",
    "import time\n",
    "\n",
    "data=[\n",
    "    b'I love working from home :)',\n",
    "    b'Nope watching tv at home... Not going out. V bored...',\n",
    "    b'I will come tomorrow di',\n",
    "    b'For ur chance to win a 250 wkly shopping spree TXT: SHOP to 80878. www.txt-2-shop.com custcare 08715705022',\n",
    "    b'URGENT! You have won a 1 week FREE membership !'\n",
    "]\n",
    "\n",
    "topic='test'\n",
    "\n",
    "while True:\n",
    "    tx=random.choice(data)\n",
    "    producer.send('test',tx)\n",
    "    time.sleep(1)\n"
   ]
  }
 ],
 "metadata": {
  "kernelspec": {
   "display_name": "Python 3",
   "language": "python",
   "name": "python3"
  },
  "language_info": {
   "codemirror_mode": {
    "name": "ipython",
    "version": 3
   },
   "file_extension": ".py",
   "mimetype": "text/x-python",
   "name": "python",
   "nbconvert_exporter": "python",
   "pygments_lexer": "ipython3",
   "version": "3.7.3"
  }
 },
 "nbformat": 4,
 "nbformat_minor": 5
}
