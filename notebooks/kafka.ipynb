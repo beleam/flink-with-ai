{
 "cells": [
  {
   "cell_type": "code",
   "execution_count": 12,
   "id": "757f4e78",
   "metadata": {},
   "outputs": [],
   "source": [
    "from kafka import KafkaProducer"
   ]
  },
  {
   "cell_type": "code",
   "execution_count": 13,
   "id": "704a32f7",
   "metadata": {},
   "outputs": [],
   "source": [
    "producer = KafkaProducer(bootstrap_servers='kafka:9092')"
   ]
  },
  {
   "cell_type": "code",
   "execution_count": 14,
   "id": "e0ea2862",
   "metadata": {},
   "outputs": [
    {
     "data": {
      "text/plain": [
       "<kafka.producer.future.FutureRecordMetadata at 0x7f4821ce5978>"
      ]
     },
     "execution_count": 14,
     "metadata": {},
     "output_type": "execute_result"
    }
   ],
   "source": [
    "producer.send('test',b'I love working from home :)')"
   ]
  },
  {
   "cell_type": "code",
   "execution_count": 15,
   "id": "b76f910b",
   "metadata": {},
   "outputs": [
    {
     "data": {
      "text/plain": [
       "<kafka.producer.future.FutureRecordMetadata at 0x7f4821d3db70>"
      ]
     },
     "execution_count": 15,
     "metadata": {},
     "output_type": "execute_result"
    }
   ],
   "source": [
    "producer.send('test',b'URGENT! You have won a 1 week FREE membership !')"
   ]
  },
  {
   "cell_type": "code",
   "execution_count": null,
   "id": "c3beb4f8",
   "metadata": {},
   "outputs": [],
   "source": [
    "import random\n",
    "import time\n",
    "\n",
    "data=[\n",
    "    b'I love working from home :)',\n",
    "    b'Nope watching tv at home... Not going out. V bored...',\n",
    "    b'I will come tomorrow di',\n",
    "    b'For ur chance to win a 250 wkly shopping spree TXT: SHOP to 80878. www.txt-2-shop.com custcare 08715705022',\n",
    "    b'URGENT! You have won a 1 week FREE membership !'\n",
    "]\n",
    "\n",
    "topic='test'\n",
    "\n",
    "while True:\n",
    "    tx=random.choice(data)\n",
    "    producer.send('test',tx)\n",
    "    time.sleep(1)\n"
   ]
  }
 ],
 "metadata": {
  "kernelspec": {
   "display_name": "Python 3",
   "language": "python",
   "name": "python3"
  },
  "language_info": {
   "codemirror_mode": {
    "name": "ipython",
    "version": 3
   },
   "file_extension": ".py",
   "mimetype": "text/x-python",
   "name": "python",
   "nbconvert_exporter": "python",
   "pygments_lexer": "ipython3",
   "version": "3.7.3"
  }
 },
 "nbformat": 4,
 "nbformat_minor": 5
}
