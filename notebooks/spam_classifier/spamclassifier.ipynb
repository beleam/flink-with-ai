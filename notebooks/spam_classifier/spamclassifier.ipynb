{
 "cells": [
  {
   "cell_type": "markdown",
   "id": "7474d84b",
   "metadata": {},
   "source": [
    "# SPAM CLASSIFIER "
   ]
  },
  {
   "cell_type": "markdown",
   "id": "a0967877",
   "metadata": {},
   "source": [
    "Before you start download spam.csv dataset from: https://www.kaggle.com/uciml/sms-spam-collection-dataset"
   ]
  },
  {
   "cell_type": "code",
   "execution_count": 1,
   "id": "5568641e",
   "metadata": {},
   "outputs": [],
   "source": [
    "# default_exp train"
   ]
  },
  {
   "cell_type": "markdown",
   "id": "2a450368",
   "metadata": {},
   "source": [
    "## Input parameters for mlflow project "
   ]
  },
  {
   "cell_type": "code",
   "execution_count": null,
   "id": "e13bd9bf",
   "metadata": {},
   "outputs": [],
   "source": [
    "#export \n",
    "import argparse\n",
    "parser= argparse.ArgumentParser()\n",
    "\n",
    "parser.add_argument('--max_features', type=int)\n",
    "\n",
    "args = parser.parse_args()\n",
    "input_params = args.__dict__"
   ]
  },
  {
   "cell_type": "code",
   "execution_count": 3,
   "id": "b81eb8ee",
   "metadata": {},
   "outputs": [],
   "source": [
    "#hide\n",
    "input_params = {'max_features':3000}"
   ]
  },
  {
   "cell_type": "code",
   "execution_count": 4,
   "id": "78efc9c7",
   "metadata": {},
   "outputs": [],
   "source": [
    "#export\n",
    "import pandas as pd\n",
    "from sklearn.linear_model import SGDClassifier\n",
    "from sklearn.svm import SVC\n",
    "from sklearn.pipeline import Pipeline\n",
    "from sklearn.feature_extraction.text import TfidfVectorizer, CountVectorizer\n",
    "from sklearn.model_selection import cross_val_score, train_test_split\n",
    "from sklearn.metrics import classification_report, accuracy_score\n",
    "from sklearn.multiclass import OneVsRestClassifier"
   ]
  },
  {
   "cell_type": "markdown",
   "id": "e2922ef9",
   "metadata": {},
   "source": [
    "## Prepare data "
   ]
  },
  {
   "cell_type": "code",
   "execution_count": 8,
   "id": "b1e9b57a",
   "metadata": {},
   "outputs": [],
   "source": [
    "#export\n",
    "# download spam.csv dataset from: https://www.kaggle.com/uciml/sms-spam-collection-dataset\n",
    "df = pd.read_csv('spam.csv', encoding='latin-1')\n",
    "df.set_index('v2')\n",
    "y = df.pop('v1').to_numpy()\n",
    "X = df.pop('v2').to_numpy()\n",
    "X_train, X_test, y_train, y_test = train_test_split(X,y,test_size=0.3)"
   ]
  },
  {
   "cell_type": "markdown",
   "id": "09e7dc6f",
   "metadata": {},
   "source": [
    "## Train and load to mlflow  "
   ]
  },
  {
   "cell_type": "code",
   "execution_count": null,
   "id": "05dbfeeb",
   "metadata": {},
   "outputs": [],
   "source": [
    "#export\n",
    "\n",
    "import warnings\n",
    "import sys\n",
    "\n",
    "import pandas as pd\n",
    "import numpy as np\n",
    "from sklearn.metrics import mean_squared_error, mean_absolute_error, r2_score\n",
    "from sklearn.model_selection import train_test_split\n",
    "from sklearn.linear_model import ElasticNet\n",
    "from urllib.parse import urlparse\n",
    "import mlflow\n",
    "import mlflow.sklearn\n",
    "import mlflow.pyfunc\n",
    "\n",
    "#conda_env=mlflow.pyfunc.get_default_conda_env()\n",
    "\n",
    "with mlflow.start_run():\n",
    "    \n",
    "    svc_tfidf = Pipeline([\n",
    "        (\"tfidf_vectorizer\", TfidfVectorizer(stop_words=\"english\", max_features=input_params['max_features'])),\n",
    "        (\"linear svc\", OneVsRestClassifier(SVC(kernel='linear')))\n",
    "    ])\n",
    "    \n",
    "    model = svc_tfidf\n",
    "    model.fit(X_train, y_train)\n",
    "    y_pred = model.predict(X_test)\n",
    "    ac_score = accuracy_score(y_test, y_pred)\n",
    "    print(classification_report(y_test, y_pred))\n",
    "    \n",
    "    mlflow.log_param(\"max_features\", input_params['max_features'])\n",
    "    mlflow.log_metric(\"accuracy_score\", ac_score)\n",
    "    \n",
    "    tracking_url_type_store = urlparse(mlflow.get_tracking_uri()).scheme\n",
    "\n",
    "    if tracking_url_type_store != \"file\":\n",
    "        mlflow.sklearn.log_model(model, \"model\", registered_model_name=\"SMSSpamModel\")\n",
    "    else:\n",
    "        mlflow.sklearn.log_model(model, \"model\")"
   ]
  },
  {
   "cell_type": "markdown",
   "id": "b2a123e4",
   "metadata": {},
   "source": [
    "## Export train code "
   ]
  },
  {
   "cell_type": "markdown",
   "id": "d45fc67f",
   "metadata": {},
   "source": [
    "The above code will be exported to the python file using nbdev library (export, hide, default_exp keyworkd are needed ) "
   ]
  },
  {
   "cell_type": "code",
   "execution_count": 2,
   "id": "da45f940",
   "metadata": {},
   "outputs": [
    {
     "name": "stdout",
     "output_type": "stream",
     "text": [
      "Converted spam.ipynb.\n"
     ]
    }
   ],
   "source": [
    "#hide\n",
    "from nbdev.export import *\n",
    "notebook2script()"
   ]
  },
  {
   "cell_type": "markdown",
   "id": "0944f3ee",
   "metadata": {},
   "source": [
    "## Train from command using mlflow"
   ]
  },
  {
   "cell_type": "code",
   "execution_count": 3,
   "id": "03b9f418",
   "metadata": {},
   "outputs": [
    {
     "name": "stdout",
     "output_type": "stream",
     "text": [
      "env: MLFLOW_TRACKING_URI=http://mlflow:5000\n",
      "INFO: 'spamclassifier' does not exist. Creating a new experiment\n",
      "2021/04/05 21:50:05 INFO mlflow.projects.utils: === Created directory /tmp/tmpqdkfoy6m for downloading remote URIs passed to arguments of type 'path' ===\n",
      "2021/04/05 21:50:05 INFO mlflow.projects.backend.local: === Running command 'python3 ./spamclassifier/train.py --max_features 3000' in run with ID '64a89b0a6b7346498316bfae4c298535' === \n",
      "              precision    recall  f1-score   support\n",
      "\n",
      "         ham       0.99      0.99      0.99      1451\n",
      "        spam       0.96      0.93      0.94       221\n",
      "\n",
      "    accuracy                           0.99      1672\n",
      "   macro avg       0.97      0.96      0.97      1672\n",
      "weighted avg       0.99      0.99      0.99      1672\n",
      "\n",
      "Registered model 'SMSSpamModel' already exists. Creating a new version of this model...\n",
      "2021/04/05 21:50:07 INFO mlflow.tracking._model_registry.client: Waiting up to 300 seconds for model version to finish creation.                     Model name: SMSSpamModel, version 2\n",
      "Created version '2' of model 'SMSSpamModel'.\n",
      "2021/04/05 21:50:07 INFO mlflow.projects: === Run (ID '64a89b0a6b7346498316bfae4c298535') succeeded ===\n"
     ]
    }
   ],
   "source": [
    "%env MLFLOW_TRACKING_URI=http://mlflow:5000\n",
    "!mlflow run . --no-conda --experiment-name=\"spamclassifier\" -P max_features=3000"
   ]
  },
  {
   "cell_type": "markdown",
   "id": "67aeacc9",
   "metadata": {},
   "source": [
    "## Load from mlflow repository and test "
   ]
  },
  {
   "cell_type": "code",
   "execution_count": 30,
   "id": "4d045a21",
   "metadata": {},
   "outputs": [],
   "source": [
    "import mlflow.sklearn\n",
    "#sk_model = mlflow.sklearn.load_model(\"runs:/96771d893a5e46159d9f3b49bf9013e2/sk_models\")\n",
    "#sk_model = mlflow.sklearn.load_model(\"/mlflow/mlruns/2/64a89b0a6b7346498316bfae4c298535/artifacts/model\")\n",
    "sk_model = mlflow.sklearn.load_model(\"models:/SMSSpamModel/2\")\n",
    "#sk_model = mlflow.sklearn.load_model(\"models:/SMSSpamModel/Staging\")"
   ]
  },
  {
   "cell_type": "code",
   "execution_count": 32,
   "id": "ad3f09cc",
   "metadata": {},
   "outputs": [
    {
     "data": {
      "text/plain": [
       "'spam'"
      ]
     },
     "execution_count": 32,
     "metadata": {},
     "output_type": "execute_result"
    }
   ],
   "source": [
    "res=sk_model.predict([X_test[17]])\n",
    "res[0]"
   ]
  },
  {
   "cell_type": "code",
   "execution_count": null,
   "id": "c122de60",
   "metadata": {},
   "outputs": [],
   "source": [
    "X_test[0:50]"
   ]
  }
 ],
 "metadata": {
  "kernelspec": {
   "display_name": "Python 3",
   "language": "python",
   "name": "python3"
  },
  "language_info": {
   "codemirror_mode": {
    "name": "ipython",
    "version": 3
   },
   "file_extension": ".py",
   "mimetype": "text/x-python",
   "name": "python",
   "nbconvert_exporter": "python",
   "pygments_lexer": "ipython3",
   "version": "3.7.3"
  }
 },
 "nbformat": 4,
 "nbformat_minor": 5
}
