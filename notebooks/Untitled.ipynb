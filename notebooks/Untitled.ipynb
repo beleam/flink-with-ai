{
 "cells": [
  {
   "cell_type": "code",
   "execution_count": null,
   "id": "033a979c-56a8-4829-93ee-e7d752ce5152",
   "metadata": {},
   "outputs": [],
   "source": [
    "self.s_env = StreamExecutionEnvironment.get_execution_environment()\n",
    "        self.s_env.set_stream_time_characteristic(TimeCharacteristic.EventTime)\n",
    "        self.s_env.set_parallelism(1)\n",
    "        \n",
    "        self.st_env = StreamTableEnvironment \\\n",
    "            .create(self.s_env, environment_settings=EnvironmentSettings\n",
    "                    .new_instance()\n",
    "                    .in_streaming_mode()\n",
    "                    .use_blink_planner().build())"
   ]
  }
 ],
 "metadata": {
  "kernelspec": {
   "display_name": "Python 3 (ipykernel)",
   "language": "python",
   "name": "python3"
  },
  "language_info": {
   "codemirror_mode": {
    "name": "ipython",
    "version": 3
   },
   "file_extension": ".py",
   "mimetype": "text/x-python",
   "name": "python",
   "nbconvert_exporter": "python",
   "pygments_lexer": "ipython3",
   "version": "3.7.3"
  }
 },
 "nbformat": 4,
 "nbformat_minor": 5
}
