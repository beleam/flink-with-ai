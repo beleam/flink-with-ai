{
 "cells": [
  {
   "cell_type": "markdown",
   "id": "c14f789d",
   "metadata": {},
   "source": [
    "# Load FlinkMagic extension "
   ]
  },
  {
   "cell_type": "code",
   "execution_count": 9,
   "id": "a0b93150",
   "metadata": {},
   "outputs": [],
   "source": [
    "%reload_ext flinkmagic"
   ]
  },
  {
   "cell_type": "markdown",
   "id": "15a56b3e",
   "metadata": {},
   "source": [
    "# Initialize StreamEnvironment "
   ]
  },
  {
   "cell_type": "code",
   "execution_count": 10,
   "id": "1b3780f9",
   "metadata": {},
   "outputs": [],
   "source": [
    "%flink_init_stream_env"
   ]
  },
  {
   "cell_type": "markdown",
   "id": "859d3f69",
   "metadata": {},
   "source": [
    "# Define Sink and Source using SQL "
   ]
  },
  {
   "cell_type": "code",
   "execution_count": 11,
   "id": "2dd380e3",
   "metadata": {},
   "outputs": [
    {
     "name": "stdout",
     "output_type": "stream",
     "text": [
      "+--------+\n",
      "| result |\n",
      "+--------+\n",
      "|     OK |\n",
      "+--------+\n",
      "1 row in set\n"
     ]
    }
   ],
   "source": [
    "%%flink_execute_sql\n",
    "CREATE TABLE MySourceTable (word varchar) WITH (\n",
    "        'connector.type' = 'filesystem',\n",
    "        'format.type' = 'csv',\n",
    "        'connector.path' = '/opt/flink/notebooks/data/word_count_input')"
   ]
  },
  {
   "cell_type": "code",
   "execution_count": 12,
   "id": "65a3b0bf",
   "metadata": {},
   "outputs": [
    {
     "name": "stdout",
     "output_type": "stream",
     "text": [
      "+--------+\n",
      "| result |\n",
      "+--------+\n",
      "0 row in set\n"
     ]
    }
   ],
   "source": [
    "%%flink_execute_sql\n",
    "CREATE TABLE MySinkTable (\n",
    "    word varchar,\n",
    "    cnt bigint) WITH (\n",
    "        'connector.type' = 'filesystem',\n",
    "        'format.type' = 'csv',\n",
    "        'connector.path' = '/opt/flink/notebooks/data/word_count_output1')"
   ]
  },
  {
   "cell_type": "code",
   "execution_count": 13,
   "id": "e38b84f2-b0fd-4810-affc-57823cad82da",
   "metadata": {},
   "outputs": [
    {
     "name": "stdout",
     "output_type": "stream",
     "text": [
      "+---------------+\n",
      "|    table name |\n",
      "+---------------+\n",
      "|   MySinkTable |\n",
      "| MySourceTable |\n",
      "+---------------+\n",
      "2 rows in set\n"
     ]
    }
   ],
   "source": [
    "%%flink_execute_sql\n",
    "show tables"
   ]
  },
  {
   "cell_type": "code",
   "execution_count": 5,
   "id": "4b2d3269",
   "metadata": {},
   "outputs": [],
   "source": [
    "%%flink_execute_sql\n",
    "CREATE TABLE MySinkDbTable (\n",
    "    word varchar,\n",
    "    cnt bigint) WITH (\n",
    "        'connector.type' = 'jdbc',\n",
    "        'connector.url' = 'jdbc:mysql://mysql:3306/test',\n",
    "        'connector.table' = 'word_count',\n",
    "        'connector.driver' = 'com.mysql.jdbc.Driver',\n",
    "        'connector.write.flush.interval' = '10',\n",
    "        'connector.username' = 'root',\n",
    "        'connector.password' = 'my-secret-pw')"
   ]
  },
  {
   "cell_type": "code",
   "execution_count": 6,
   "id": "7a8a9c85",
   "metadata": {},
   "outputs": [],
   "source": [
    "%%flink_execute_sql\n",
    "CREATE TABLE MySinkDbSmsTable (\n",
    "    smstext varchar,\n",
    "    smstype varchar) WITH (\n",
    "        'connector.type' = 'jdbc',\n",
    "        'connector.url' = 'jdbc:mysql://mysql:3306/test',\n",
    "        'connector.table' = 'sms',\n",
    "        'connector.driver' = 'com.mysql.jdbc.Driver',\n",
    "        'connector.write.flush.interval' = '10',\n",
    "        'connector.username' = 'root',\n",
    "        'connector.password' = 'my-secret-pw')"
   ]
  },
  {
   "cell_type": "code",
   "execution_count": 7,
   "id": "07906d26",
   "metadata": {},
   "outputs": [],
   "source": [
    "%%flink_execute_sql\n",
    "CREATE TABLE MySinkPrintSmsTable (\n",
    "    smstext varchar,\n",
    "    smstype varchar) WITH (\n",
    "        'connector' = 'print')"
   ]
  },
  {
   "cell_type": "code",
   "execution_count": 8,
   "id": "bbf24b32",
   "metadata": {},
   "outputs": [],
   "source": [
    "%%flink_execute_sql\n",
    "CREATE TABLE MySourceKafkaTable (word varchar) WITH (\n",
    "    'connector.type' = 'kafka',\n",
    "    'connector.version' = 'universal',\n",
    "    'connector.topic' = 'test',\n",
    "    'connector.startup-mode' = 'latest-offset',\n",
    "    'connector.properties.bootstrap.servers' = 'kafka:9092',\n",
    "    'connector.properties.group.id' = 'test',\n",
    "    'format.type' = 'csv'\n",
    "        )"
   ]
  },
  {
   "cell_type": "markdown",
   "id": "d42bc4eb",
   "metadata": {},
   "source": [
    "# Load MLflow model "
   ]
  },
  {
   "cell_type": "markdown",
   "id": "bd6d7f44",
   "metadata": {},
   "source": [
    "Here we autoamtically load mlflow model:\n",
    "```\n",
    "%flink_mlflow function_name mlflow_model_path input_types result_type\n",
    "```\n",
    "where:\n",
    "* function_name - function name which will be used in SQL eg. SPAM_CLASSIFIER\n",
    "* mlflow_model_path - path to the mlflow model eg. /mlflow/mlruns/2/64a89b0a6b7346498316bfae4c298535/artifacts/model\n",
    "* input_types - list of input types in function eg. ```[DataTypes.STRING(),DataTypes.STRING()]``` (avoid spaces :)) full list of types https://ci.apache.org/projects/flink/flink-docs-stable/dev/table/types.html\n",
    "* result_type - result type eg. ```DataTypes.STRING()``` full list of types https://ci.apache.org/projects/flink/flink-docs-stable/dev/table/types.html"
   ]
  },
  {
   "cell_type": "code",
   "execution_count": 9,
   "id": "1dd7e05c",
   "metadata": {},
   "outputs": [
    {
     "name": "stdout",
     "output_type": "stream",
     "text": [
      "Function SPAM_CLASSIFIER registered\n"
     ]
    }
   ],
   "source": [
    "%flink_mlflow \"SPAM_CLASSIFIER\" \"/mlflow/mlruns/2/64a89b0a6b7346498316bfae4c298535/artifacts/model\" \"[DataTypes.STRING()]\" \"DataTypes.STRING()\""
   ]
  },
  {
   "cell_type": "markdown",
   "id": "8e5851fd",
   "metadata": {},
   "source": [
    "# Load MLflow using custom UDF python class "
   ]
  },
  {
   "cell_type": "code",
   "execution_count": 42,
   "id": "a5b499a0",
   "metadata": {},
   "outputs": [],
   "source": [
    "from pyflink.table.expressions import call \n",
    "from pyflink.table.udf import ScalarFunction\n",
    "\n",
    "class SpamClassifier(ScalarFunction):\n",
    "    def __init__(self, model_id):\n",
    "        import mlflow.pyfunc\n",
    "        self.model = mlflow.pyfunc.load_model(f\"/mlflow/mlruns/2/{model_id}/artifacts/model\")\n",
    "\n",
    "    def eval(self, s):\n",
    "        res=self.model.predict([s])\n",
    "        return res[0]\n",
    "        #return s\n",
    "\n",
    "spam_classifier = udf(SpamClassifier(\"64a89b0a6b7346498316bfae4c298535\"), input_types=[DataTypes.STRING()], result_type=DataTypes.STRING())"
   ]
  },
  {
   "cell_type": "markdown",
   "id": "98ff08a4",
   "metadata": {},
   "source": [
    "use ```%flink_register_function``` to register udf:\n",
    "```\n",
    "%flink_register_function function_name udf_object\n",
    "```\n",
    "where:\n",
    "* function_name - function name which will be used in SQL eg. SPAM_CLASSIFIER\n",
    "* udf_object - created udf object eg. spam_classifier"
   ]
  },
  {
   "cell_type": "code",
   "execution_count": 43,
   "id": "c5a66c5b",
   "metadata": {},
   "outputs": [
    {
     "name": "stdout",
     "output_type": "stream",
     "text": [
      "Function SPAM_CLASSIFIER registered\n"
     ]
    }
   ],
   "source": [
    "%flink_register_function SPAM_CLASSIFIER spam_classifier"
   ]
  },
  {
   "cell_type": "markdown",
   "id": "2f69550c",
   "metadata": {},
   "source": [
    "# Flink SQL query which prints the output to  notebook interactively"
   ]
  },
  {
   "cell_type": "markdown",
   "id": "3b14e621",
   "metadata": {},
   "source": [
    "## Print as a pandas DataFrame "
   ]
  },
  {
   "cell_type": "code",
   "execution_count": null,
   "id": "74c8b8c1",
   "metadata": {},
   "outputs": [
    {
     "data": {
      "text/html": [
       "<div>\n",
       "<style scoped>\n",
       "    .dataframe tbody tr th:only-of-type {\n",
       "        vertical-align: middle;\n",
       "    }\n",
       "\n",
       "    .dataframe tbody tr th {\n",
       "        vertical-align: top;\n",
       "    }\n",
       "\n",
       "    .dataframe thead th {\n",
       "        text-align: right;\n",
       "    }\n",
       "</style>\n",
       "<table border=\"1\" class=\"dataframe\">\n",
       "  <thead>\n",
       "    <tr style=\"text-align: right;\">\n",
       "      <th></th>\n",
       "      <th>smstext</th>\n",
       "      <th>smstype</th>\n",
       "    </tr>\n",
       "  </thead>\n",
       "  <tbody>\n",
       "    <tr>\n",
       "      <th>0</th>\n",
       "      <td>URGENT! You have won a 1 week FREE membership !</td>\n",
       "      <td>spam</td>\n",
       "    </tr>\n",
       "    <tr>\n",
       "      <th>1</th>\n",
       "      <td>I will come tomorrow di</td>\n",
       "      <td>ham</td>\n",
       "    </tr>\n",
       "    <tr>\n",
       "      <th>2</th>\n",
       "      <td>I love working from home :)</td>\n",
       "      <td>ham</td>\n",
       "    </tr>\n",
       "    <tr>\n",
       "      <th>3</th>\n",
       "      <td>I will come tomorrow di</td>\n",
       "      <td>ham</td>\n",
       "    </tr>\n",
       "    <tr>\n",
       "      <th>4</th>\n",
       "      <td>I will come tomorrow di</td>\n",
       "      <td>ham</td>\n",
       "    </tr>\n",
       "    <tr>\n",
       "      <th>5</th>\n",
       "      <td>I love working from home :)</td>\n",
       "      <td>ham</td>\n",
       "    </tr>\n",
       "    <tr>\n",
       "      <th>6</th>\n",
       "      <td>Nope watching tv at home... Not going out. V b...</td>\n",
       "      <td>ham</td>\n",
       "    </tr>\n",
       "  </tbody>\n",
       "</table>\n",
       "</div>"
      ],
      "text/plain": [
       "                                             smstext smstype\n",
       "0    URGENT! You have won a 1 week FREE membership !    spam\n",
       "1                            I will come tomorrow di     ham\n",
       "2                        I love working from home :)     ham\n",
       "3                            I will come tomorrow di     ham\n",
       "4                            I will come tomorrow di     ham\n",
       "5                        I love working from home :)     ham\n",
       "6  Nope watching tv at home... Not going out. V b...     ham"
      ]
     },
     "metadata": {},
     "output_type": "display_data"
    }
   ],
   "source": [
    "%%flink_sql_query\n",
    "SELECT word as smstext, SPAM_CLASSIFIER(word) as smstype FROM MySourceKafkaTable"
   ]
  },
  {
   "cell_type": "markdown",
   "id": "48449cd3",
   "metadata": {},
   "source": [
    "## Print as a pie chart "
   ]
  },
  {
   "cell_type": "code",
   "execution_count": null,
   "id": "0e7d34b8",
   "metadata": {},
   "outputs": [
    {
     "data": {
      "image/png": "[encoded data removed]",
      "text/plain": [
       "<Figure size 360x360 with 1 Axes>"
      ]
     },
     "metadata": {},
     "output_type": "display_data"
    }
   ],
   "source": [
    "%%flink_sql_query_pie\n",
    "SELECT word as smstext, SPAM_CLASSIFIER(word) as smstype FROM MySourceKafkaTable"
   ]
  }
 ],
 "metadata": {
  "kernelspec": {
   "display_name": "Python 3 (ipykernel)",
   "language": "python",
   "name": "python3"
  },
  "language_info": {
   "codemirror_mode": {
    "name": "ipython",
    "version": 3
   },
   "file_extension": ".py",
   "mimetype": "text/x-python",
   "name": "python",
   "nbconvert_exporter": "python",
   "pygments_lexer": "ipython3",
   "version": "3.7.3"
  }
 },
 "nbformat": 4,
 "nbformat_minor": 5
}
