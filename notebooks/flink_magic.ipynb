{
 "cells": [
  {
   "cell_type": "markdown",
   "id": "c14f789d",
   "metadata": {},
   "source": [
    "# Load FlinkMagic extension "
   ]
  },
  {
   "cell_type": "code",
   "execution_count": null,
   "id": "a0b93150",
   "metadata": {},
   "outputs": [],
   "source": [
    "%reload_ext flinkmagic"
   ]
  },
  {
   "cell_type": "markdown",
   "id": "15a56b3e",
   "metadata": {},
   "source": [
    "# Initialize StreamEnvironment "
   ]
  },
  {
   "cell_type": "code",
   "execution_count": null,
   "id": "1b3780f9",
   "metadata": {},
   "outputs": [],
   "source": [
    "%flink_init_stream_env"
   ]
  },
  {
   "cell_type": "markdown",
   "id": "859d3f69",
   "metadata": {},
   "source": [
    "# Define Sink and Source using SQL "
   ]
  },
  {
   "cell_type": "code",
   "execution_count": null,
   "id": "2dd380e3",
   "metadata": {},
   "outputs": [],
   "source": [
    "%%flink_execute_sql\n",
    "CREATE TABLE MySourceTable (word varchar) WITH (\n",
    "        'connector.type' = 'filesystem',\n",
    "        'format.type' = 'csv',\n",
    "        'connector.path' = '/opt/flink/notebooks/data/word_count_input')"
   ]
  },
  {
   "cell_type": "code",
   "execution_count": null,
   "id": "65a3b0bf",
   "metadata": {},
   "outputs": [],
   "source": [
    "%%flink_execute_sql\n",
    "CREATE TABLE MySinkTable (\n",
    "    word varchar,\n",
    "    cnt bigint) WITH (\n",
    "        'connector.type' = 'filesystem',\n",
    "        'format.type' = 'csv',\n",
    "        'connector.path' = '/opt/flink/notebooks/data/word_count_output1')"
   ]
  },
  {
   "cell_type": "code",
   "execution_count": null,
   "id": "e38b84f2-b0fd-4810-affc-57823cad82da",
   "metadata": {},
   "outputs": [],
   "source": [
    "%%flink_execute_sql\n",
    "show tables"
   ]
  },
  {
   "cell_type": "code",
   "execution_count": null,
   "id": "4b2d3269",
   "metadata": {},
   "outputs": [],
   "source": [
    "%%flink_execute_sql\n",
    "CREATE TABLE MySinkDbTable (\n",
    "    word varchar,\n",
    "    cnt bigint) WITH (\n",
    "        'connector.type' = 'jdbc',\n",
    "        'connector.url' = 'jdbc:mysql://mysql:3306/test',\n",
    "        'connector.table' = 'word_count',\n",
    "        'connector.driver' = 'com.mysql.jdbc.Driver',\n",
    "        'connector.write.flush.interval' = '10',\n",
    "        'connector.username' = 'root',\n",
    "        'connector.password' = 'my-secret-pw')"
   ]
  },
  {
   "cell_type": "code",
   "execution_count": null,
   "id": "7a8a9c85",
   "metadata": {},
   "outputs": [],
   "source": [
    "%%flink_execute_sql\n",
    "CREATE TABLE MySinkDbSmsTable (\n",
    "    smstext varchar,\n",
    "    smstype varchar) WITH (\n",
    "        'connector.type' = 'jdbc',\n",
    "        'connector.url' = 'jdbc:mysql://mysql:3306/test',\n",
    "        'connector.table' = 'sms',\n",
    "        'connector.driver' = 'com.mysql.jdbc.Driver',\n",
    "        'connector.write.flush.interval' = '10',\n",
    "        'connector.username' = 'root',\n",
    "        'connector.password' = 'my-secret-pw')"
   ]
  },
  {
   "cell_type": "code",
   "execution_count": null,
   "id": "07906d26",
   "metadata": {},
   "outputs": [],
   "source": [
    "%%flink_execute_sql\n",
    "CREATE TABLE MySinkPrintSmsTable (\n",
    "    smstext varchar,\n",
    "    smstype varchar) WITH (\n",
    "        'connector' = 'print')"
   ]
  },
  {
   "cell_type": "code",
   "execution_count": null,
   "id": "bbf24b32",
   "metadata": {},
   "outputs": [],
   "source": [
    "%%flink_execute_sql\n",
    "CREATE TABLE MySourceKafkaTable (word varchar) WITH (\n",
    "    'connector.type' = 'kafka',\n",
    "    'connector.version' = 'universal',\n",
    "    'connector.topic' = 'test',\n",
    "    'connector.startup-mode' = 'latest-offset',\n",
    "    'connector.properties.bootstrap.servers' = 'kafka:9092',\n",
    "    'connector.properties.group.id' = 'test',\n",
    "    'format.type' = 'csv'\n",
    "        )"
   ]
  },
  {
   "cell_type": "markdown",
   "id": "d42bc4eb",
   "metadata": {},
   "source": [
    "# Load MLflow model "
   ]
  },
  {
   "cell_type": "markdown",
   "id": "bd6d7f44",
   "metadata": {},
   "source": [
    "Here we autoamtically load mlflow model:\n",
    "```\n",
    "%flink_mlflow function_name mlflow_model_path input_types result_type\n",
    "```\n",
    "where:\n",
    "* function_name - function name which will be used in SQL eg. SPAM_CLASSIFIER\n",
    "* mlflow_model_path - path to the mlflow model eg. /mlflow/mlruns/2/64a89b0a6b7346498316bfae4c298535/artifacts/model\n",
    "* input_types - list of input types in function eg. ```[DataTypes.STRING(),DataTypes.STRING()]``` (avoid spaces :)) full list of types https://ci.apache.org/projects/flink/flink-docs-stable/dev/table/types.html\n",
    "* result_type - result type eg. ```DataTypes.STRING()``` full list of types https://ci.apache.org/projects/flink/flink-docs-stable/dev/table/types.html"
   ]
  },
  {
   "cell_type": "code",
   "execution_count": null,
   "id": "1dd7e05c",
   "metadata": {},
   "outputs": [],
   "source": [
    "%flink_mlflow \"SPAM_CLASSIFIER\" \"/mlflow/mlruns/2/64a89b0a6b7346498316bfae4c298535/artifacts/model\" \"[DataTypes.STRING()]\" \"DataTypes.STRING()\""
   ]
  },
  {
   "cell_type": "markdown",
   "id": "8e5851fd",
   "metadata": {},
   "source": [
    "# Load MLflow using custom UDF python class "
   ]
  },
  {
   "cell_type": "code",
   "execution_count": null,
   "id": "a5b499a0",
   "metadata": {},
   "outputs": [],
   "source": [
    "from pyflink.table.expressions import call \n",
    "from pyflink.table.udf import ScalarFunction\n",
    "\n",
    "class SpamClassifier(ScalarFunction):\n",
    "    def __init__(self, model_id):\n",
    "        import mlflow.pyfunc\n",
    "        self.model = mlflow.pyfunc.load_model(f\"/mlflow/mlruns/2/{model_id}/artifacts/model\")\n",
    "\n",
    "    def eval(self, s):\n",
    "        res=self.model.predict([s])\n",
    "        return res[0]\n",
    "        #return s\n",
    "\n",
    "spam_classifier = udf(SpamClassifier(\"64a89b0a6b7346498316bfae4c298535\"), input_types=[DataTypes.STRING()], result_type=DataTypes.STRING())"
   ]
  },
  {
   "cell_type": "markdown",
   "id": "98ff08a4",
   "metadata": {},
   "source": [
    "use ```%flink_register_function``` to register udf:\n",
    "```\n",
    "%flink_register_function function_name udf_object\n",
    "```\n",
    "where:\n",
    "* function_name - function name which will be used in SQL eg. SPAM_CLASSIFIER\n",
    "* udf_object - created udf object eg. spam_classifier"
   ]
  },
  {
   "cell_type": "code",
   "execution_count": null,
   "id": "c5a66c5b",
   "metadata": {},
   "outputs": [],
   "source": [
    "%flink_register_function SPAM_CLASSIFIER spam_classifier"
   ]
  },
  {
   "cell_type": "markdown",
   "id": "2f69550c",
   "metadata": {},
   "source": [
    "# Flink SQL query which prints the output to  notebook interactively"
   ]
  },
  {
   "cell_type": "markdown",
   "id": "3b14e621",
   "metadata": {},
   "source": [
    "## Print as a pandas DataFrame "
   ]
  },
  {
   "cell_type": "code",
   "execution_count": null,
   "id": "74c8b8c1",
   "metadata": {},
   "outputs": [],
   "source": [
    "%%flink_sql_query\n",
    "SELECT word as smstext, SPAM_CLASSIFIER(word) as smstype FROM MySourceKafkaTable"
   ]
  },
  {
   "cell_type": "markdown",
   "id": "48449cd3",
   "metadata": {},
   "source": [
    "## Print as a pie chart "
   ]
  },
  {
   "cell_type": "code",
   "execution_count": null,
   "id": "0e7d34b8",
   "metadata": {},
   "outputs": [],
   "source": [
    "%%flink_sql_query_pie\n",
    "SELECT word as smstext, SPAM_CLASSIFIER(word) as smstype FROM MySourceKafkaTable"
   ]
  }
 ],
 "metadata": {
  "kernelspec": {
   "display_name": "Python 3 (ipykernel)",
   "language": "python",
   "name": "python3"
  },
  "language_info": {
   "codemirror_mode": {
    "name": "ipython",
    "version": 3
   },
   "file_extension": ".py",
   "mimetype": "text/x-python",
   "name": "python",
   "nbconvert_exporter": "python",
   "pygments_lexer": "ipython3",
   "version": "3.7.3"
  }
 },
 "nbformat": 4,
 "nbformat_minor": 5
}
